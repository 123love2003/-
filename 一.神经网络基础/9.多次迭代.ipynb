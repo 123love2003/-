{
 "cells": [
  {
   "cell_type": "code",
   "execution_count": null,
   "id": "9a6df351",
   "metadata": {},
   "outputs": [
    {
     "name": "stdout",
     "output_type": "stream",
     "text": [
      "(tensor([[0.9810, 0.1202, 0.9576],\n",
      "        [0.7704, 0.4886, 0.7938]]), tensor([[[ 1.6148e+00, -1.2397e-01, -2.4691e-01,  8.2089e-01,  7.2826e-01],\n",
      "         [ 1.3954e+00,  7.7485e-01,  4.5281e-01, -1.2492e-02, -3.7678e-01],\n",
      "         [ 9.8403e-01, -1.4958e-01, -2.3056e+00, -4.2627e-01,  1.0232e-01],\n",
      "         [-8.5220e-01, -1.6476e+00, -1.7217e+00, -8.1260e-01,  5.3283e-01]],\n",
      "\n",
      "        [[-2.9257e-03,  1.1108e+00,  2.5268e+00,  6.0371e-01,  1.1377e+00],\n",
      "         [-4.6858e-01, -3.4236e-01,  4.3645e-01, -3.7162e-01, -9.2806e-02],\n",
      "         [-9.7617e-01, -7.7775e-01, -5.9052e-01, -1.0090e+00, -1.1166e+00],\n",
      "         [ 6.4686e-01,  2.3320e-01,  1.4859e-01, -2.0413e+00,  2.0925e-02]],\n",
      "\n",
      "        [[-7.7478e-01, -6.6248e-01,  6.8450e-01,  8.3656e-01, -1.3282e+00],\n",
      "         [-5.3271e-01,  1.4880e+00,  4.6827e-01,  1.7595e-01,  1.3410e+00],\n",
      "         [-5.9271e-01,  3.7385e-01,  1.0787e+00,  3.2419e+00, -8.1468e-01],\n",
      "         [ 1.4234e+00,  1.7728e+00,  1.2598e-01, -1.0332e+00,  7.0092e-01]]]), tensor([-0.1645]))\n"
     ]
    }
   ],
   "source": [
    "# TensorDataset\n",
    "import torch\n",
    "from torch.utils.data import TensorDataset\n",
    "a=torch.rand(500,2,3)#3维数据\n",
    "b=torch.randn(500,3,4,5)\n",
    "c=torch.randn(500,1)\n",
    "#被合并对象要求第一维度上的值相等\n",
    "for x in TensorDataset(a,b,c):\n",
    "    print(x)\n",
    "    break\n"
   ]
  },
  {
   "cell_type": "markdown",
   "id": "62e817ea",
   "metadata": {},
   "source": [
    "from torch.utils.data import DataLoader\n",
    "\n",
    "实例化 DataLoader\n",
    "dataloader = DataLoader(\n",
    "\n",
    "    dataset,          # 输入的数据集（如 TensorDataset 实例）\n",
    "\n",
    "    batch_size=32,    # 每个批次的样本数量（默认1）\n",
    "\n",
    "    shuffle=False,    # 是否在每个 epoch 前打乱数据（训练集常用 True，测试集用 False）\n",
    "\n",
    "    num_workers=0,    # 加载数据的进程数（Windows 建议设为 0，避免报错）\n",
    "    \n",
    "    drop_last=False   # 若数据集大小不能被 batch_size 整除，是否丢弃最后一个不完整的批次（默认 False）\n",
    ")"
   ]
  },
  {
   "cell_type": "code",
   "execution_count": 6,
   "id": "65d4219c",
   "metadata": {},
   "outputs": [
    {
     "name": "stdout",
     "output_type": "stream",
     "text": [
      "[tensor([[[[ 1.6148e+00, -1.2397e-01, -2.4691e-01,  8.2089e-01,  7.2826e-01],\n",
      "          [ 1.3954e+00,  7.7485e-01,  4.5281e-01, -1.2492e-02, -3.7678e-01],\n",
      "          [ 9.8403e-01, -1.4958e-01, -2.3056e+00, -4.2627e-01,  1.0232e-01],\n",
      "          [-8.5220e-01, -1.6476e+00, -1.7217e+00, -8.1260e-01,  5.3283e-01]],\n",
      "\n",
      "         [[-2.9257e-03,  1.1108e+00,  2.5268e+00,  6.0371e-01,  1.1377e+00],\n",
      "          [-4.6858e-01, -3.4236e-01,  4.3645e-01, -3.7162e-01, -9.2806e-02],\n",
      "          [-9.7617e-01, -7.7775e-01, -5.9052e-01, -1.0090e+00, -1.1166e+00],\n",
      "          [ 6.4686e-01,  2.3320e-01,  1.4859e-01, -2.0413e+00,  2.0925e-02]],\n",
      "\n",
      "         [[-7.7478e-01, -6.6248e-01,  6.8450e-01,  8.3656e-01, -1.3282e+00],\n",
      "          [-5.3271e-01,  1.4880e+00,  4.6827e-01,  1.7595e-01,  1.3410e+00],\n",
      "          [-5.9271e-01,  3.7385e-01,  1.0787e+00,  3.2419e+00, -8.1468e-01],\n",
      "          [ 1.4234e+00,  1.7728e+00,  1.2598e-01, -1.0332e+00,  7.0092e-01]]]]), tensor([[-0.1645]])]\n",
      "torch.Size([120, 3, 4, 5])\n",
      "torch.Size([120, 3, 4, 5])\n",
      "torch.Size([120, 3, 4, 5])\n",
      "torch.Size([120, 3, 4, 5])\n",
      "4\n",
      "500\n"
     ]
    }
   ],
   "source": [
    "# DataLoader-用来切割小批量类\n",
    "data=TensorDataset(b,c)\n",
    "from torch.utils.data import DataLoader\n",
    "for x in DataLoader(data):\n",
    "    print(x)\n",
    "    break\n",
    "bs=120\n",
    "dataset=DataLoader(data,batch_size=bs,shuffle=True,drop_last=True)  \n",
    "for i in dataset:\n",
    "    print(i[0].shape)\n",
    "print(len(dataset))#batch数目\n",
    "print(len(dataset.dataset))#展示全部数据"
   ]
  }
 ],
 "metadata": {
  "kernelspec": {
   "display_name": "jrx",
   "language": "python",
   "name": "python3"
  },
  "language_info": {
   "codemirror_mode": {
    "name": "ipython",
    "version": 3
   },
   "file_extension": ".py",
   "mimetype": "text/x-python",
   "name": "python",
   "nbconvert_exporter": "python",
   "pygments_lexer": "ipython3",
   "version": "3.9.21"
  }
 },
 "nbformat": 4,
 "nbformat_minor": 5
}
