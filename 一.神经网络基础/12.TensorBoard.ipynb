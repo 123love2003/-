{
 "cells": [
  {
   "cell_type": "code",
   "execution_count": 13,
   "id": "0461d559",
   "metadata": {},
   "outputs": [],
   "source": [
    "import torch\n",
    "from torch.utils.tensorboard import SummaryWriter\n",
    "\n",
    "# 创建 SummaryWriter 对象，指定日志目录（默认：./runs/）\n",
    "writer = SummaryWriter(\"D:\\Tsboard\")  # 数据会保存在 D:\\Tsboard文件夹"
   ]
  },
  {
   "cell_type": "code",
   "execution_count": 14,
   "id": "3257ff6a",
   "metadata": {},
   "outputs": [],
   "source": [
    "# 记录标量（如损失、准确率）\n",
    "for epoch in range(100):\n",
    "    loss = 0.1 * epoch  # 模拟损失下降\n",
    "    writer.add_scalar(\"Loss/train\", loss, epoch)\n",
    "\n",
    "# 记录图像（如输入/输出）\n",
    "images = torch.randn(1, 3, 64, 64)  # 模拟一张图像\n",
    "writer.add_image(\"Input_image\", images[0], epoch)\n",
    "\n",
    "# 记录模型结构（需传入示例输入）\n",
    "model = torch.nn.Linear(10, 1)\n",
    "writer.add_graph(model, torch.randn(1, 10))\n",
    "writer.close()"
   ]
  }
 ],
 "metadata": {
  "kernelspec": {
   "display_name": "jrx",
   "language": "python",
   "name": "python3"
  },
  "language_info": {
   "codemirror_mode": {
    "name": "ipython",
    "version": 3
   },
   "file_extension": ".py",
   "mimetype": "text/x-python",
   "name": "python",
   "nbconvert_exporter": "python",
   "pygments_lexer": "ipython3",
   "version": "3.9.21"
  }
 },
 "nbformat": 4,
 "nbformat_minor": 5
}
