{
 "cells": [
  {
   "cell_type": "markdown",
   "id": "68328640",
   "metadata": {},
   "source": [
    "# 如何确定输入线性层前的特征数据"
   ]
  },
  {
   "cell_type": "markdown",
   "id": "c35b4850",
   "metadata": {},
   "source": [
    "一.采用nn.Sequential方法\n",
    "\n",
    "import torch\n",
    "\n",
    "import torch.nn as nn\n",
    "\n",
    "model = nn.Sequential(\n",
    "    \n",
    "    nn.Linear(10, 20),  # 全连接层，输入维度10，输出维度20\n",
    "    \n",
    "    nn.ReLU()          # ReLU激活函数\n",
    ")"
   ]
  },
  {
   "cell_type": "markdown",
   "id": "f260db2d",
   "metadata": {},
   "source": [
    "![](https://skojiangdoc.oss-cn-beijing.aliyuncs.com/2021PyTorchDL/WEEK9/72.png?versionId=CAEQFRiBgICvypagxxciIDdhZWI1ODNjOGUzYTQ1YTFhOTNmMGQ3MzdlOGVlMTA2)"
   ]
  },
  {
   "cell_type": "code",
   "execution_count": 4,
   "id": "f1f44811",
   "metadata": {},
   "outputs": [],
   "source": [
    "import torch\n",
    "from torch import nn \n",
    "from torch.nn import functional as F"
   ]
  },
  {
   "cell_type": "code",
   "execution_count": 5,
   "id": "c063e6d5",
   "metadata": {},
   "outputs": [
    {
     "data": {
      "text/plain": [
       "torch.Size([10, 3, 9, 9])"
      ]
     },
     "execution_count": 5,
     "metadata": {},
     "output_type": "execute_result"
    }
   ],
   "source": [
    "data=torch.ones(size=(10,3,229,229))\n",
    "net = nn.Sequential(nn.Conv2d(3,6,3)\n",
    "                    ,nn.ReLU(inplace=True)\n",
    "                    ,nn.Conv2d(6,4,3)\n",
    "                    ,nn.ReLU(inplace=True)\n",
    "                    ,nn.MaxPool2d(2)\n",
    "                    ,nn.Conv2d(4,16,5,stride=2,padding=1)\n",
    "                    ,nn.ReLU(inplace=True)\n",
    "                    ,nn.Conv2d(16,3,5,stride=3,padding=2)\n",
    "                    ,nn.ReLU(inplace=True)\n",
    "                    ,nn.MaxPool2d(2)\n",
    "                   )\n",
    "net(data).shape #Seq不是类，不需要实例化过程，可直接传入数据"
   ]
  },
  {
   "cell_type": "markdown",
   "id": "a0c1d093",
   "metadata": {},
   "source": [
    "二.注释掉线性层"
   ]
  },
  {
   "cell_type": "code",
   "execution_count": 6,
   "id": "b5cd36c6",
   "metadata": {},
   "outputs": [
    {
     "data": {
      "text/plain": [
       "==========================================================================================\n",
       "Layer (type:depth-idx)                   Output Shape              Param #\n",
       "==========================================================================================\n",
       "Model                                    [10, 3, 9, 9]             --\n",
       "├─Conv2d: 1-1                            [10, 6, 227, 227]         168\n",
       "├─Conv2d: 1-2                            [10, 4, 225, 225]         220\n",
       "├─MaxPool2d: 1-3                         [10, 4, 112, 112]         --\n",
       "├─Conv2d: 1-4                            [10, 16, 55, 55]          1,616\n",
       "├─Conv2d: 1-5                            [10, 3, 19, 19]           1,203\n",
       "├─MaxPool2d: 1-6                         [10, 3, 9, 9]             --\n",
       "==========================================================================================\n",
       "Total params: 3,207\n",
       "Trainable params: 3,207\n",
       "Non-trainable params: 0\n",
       "Total mult-adds (M): 251.17\n",
       "==========================================================================================\n",
       "Input size (MB): 6.29\n",
       "Forward/backward pass size (MB): 44.89\n",
       "Params size (MB): 0.01\n",
       "Estimated Total Size (MB): 51.20\n",
       "=========================================================================================="
      ]
     },
     "execution_count": 6,
     "metadata": {},
     "output_type": "execute_result"
    }
   ],
   "source": [
    "import torch\n",
    "import torch.nn as nn\n",
    "import torch.nn.functional as F\n",
    "from torchinfo import summary\n",
    "\n",
    "data = torch.ones(size=(10, 3, 229, 229))\n",
    "\n",
    "class Model(nn.Module):\n",
    "    def __init__(self):\n",
    "        super().__init__()\n",
    "        \n",
    "        # block1\n",
    "        self.conv1 = nn.Conv2d(3, 6, 3)  \n",
    "        self.conv2 = nn.Conv2d(6, 4, 3)  \n",
    "        self.pool1 = nn.MaxPool2d(2)             \n",
    "        # block2\n",
    "        self.conv3 = nn.Conv2d(4, 16, 5, stride=2, padding=1)  \n",
    "        self.conv4 = nn.Conv2d(16, 3, 5, stride=3, padding=2)  \n",
    "        self.pool2 = nn.MaxPool2d(2)                           \n",
    "        \n",
    "        # FC层\n",
    "       # self.linear1 = nn.Linear(3*9*9, 256)\n",
    "       #self.linear2 = nn.Linear(256, 256)\n",
    "       #self.linear3 = nn.Linear(256, 10)\n",
    "        \n",
    "    def forward(self, x):\n",
    "        x = F.relu(self.conv1(x))\n",
    "        x = self.pool1(F.relu(self.conv2(x)))\n",
    "        x = F.relu(self.conv3(x))\n",
    "        x = self.pool2(F.relu(self.conv4(x)))\n",
    "       # x = x.view(-1, 3*9*9)  # 展平为 (batch_size, 192)\n",
    "        \n",
    "        #x = F.relu(self.linear1(F.dropout(x, p=0.5)))\n",
    "        #x = F.relu(self.linear2(F.dropout(x, p=0.5)))\n",
    "       # output = F.softmax(self.linear3(x), dim=1)\n",
    "        \n",
    "        return x\n",
    "\n",
    "# 测试模型是否能正常运行\n",
    "model = Model()\n",
    "summary(model,input_size=(10,3,229,229))\n"
   ]
  }
 ],
 "metadata": {
  "kernelspec": {
   "display_name": "jrx",
   "language": "python",
   "name": "python3"
  },
  "language_info": {
   "codemirror_mode": {
    "name": "ipython",
    "version": 3
   },
   "file_extension": ".py",
   "mimetype": "text/x-python",
   "name": "python",
   "nbconvert_exporter": "python",
   "pygments_lexer": "ipython3",
   "version": "3.9.21"
  }
 },
 "nbformat": 4,
 "nbformat_minor": 5
}
