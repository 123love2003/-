{
 "cells": [
  {
   "cell_type": "code",
   "execution_count": 1,
   "id": "a789f393",
   "metadata": {},
   "outputs": [],
   "source": [
    "import torch\n",
    "from torch import nn\n",
    "from torch.nn import functional as F"
   ]
  },
  {
   "cell_type": "markdown",
   "id": "207016f3",
   "metadata": {},
   "source": [
    "计算感受野"
   ]
  },
  {
   "cell_type": "code",
   "execution_count": null,
   "id": "dc87b3a5",
   "metadata": {},
   "outputs": [],
   "source": [
    "conv1= nn.Conv2d(4,8,3) #（3*3*4）*8+8=296\n",
    "conv1_= nn.Conv2d(4,8,3,groups=2) #（3*3*4*8）/2+8=152"
   ]
  },
  {
   "cell_type": "code",
   "execution_count": 3,
   "id": "91ae41f1",
   "metadata": {},
   "outputs": [
    {
     "name": "stdout",
     "output_type": "stream",
     "text": [
      "8\n",
      "288\n",
      "8\n",
      "144\n"
     ]
    }
   ],
   "source": [
    "print(conv1.bias.numel())\n",
    "print(conv1.weight.numel())\n",
    "print(conv1_.bias.numel())\n",
    "print(conv1_.weight.numel())"
   ]
  }
 ],
 "metadata": {
  "kernelspec": {
   "display_name": "jrx",
   "language": "python",
   "name": "python3"
  },
  "language_info": {
   "codemirror_mode": {
    "name": "ipython",
    "version": 3
   },
   "file_extension": ".py",
   "mimetype": "text/x-python",
   "name": "python",
   "nbconvert_exporter": "python",
   "pygments_lexer": "ipython3",
   "version": "3.9.21"
  }
 },
 "nbformat": 4,
 "nbformat_minor": 5
}
