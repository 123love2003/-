{
 "cells": [
  {
   "cell_type": "markdown",
   "id": "87465251",
   "metadata": {},
   "source": [
    "一.卷积层"
   ]
  },
  {
   "cell_type": "markdown",
   "id": "1f623933",
   "metadata": {},
   "source": [
    "CLASS torch.nn.Conv2d (in_channels, out_channels, kernel_size, stride=1, padding=0, dilation=1,\n",
    "groups=1, bias=True, padding_mode='zeros')\n",
    "\n",
    "\n",
    "in_channels（必选）：输入张量的通道数。\n",
    "\n",
    "out_channels（必选）：卷积操作后输出的通道数（即卷积核的数量）。\n",
    "\n",
    "kernel_size（必选）：\n",
    "卷积核的大小。"
   ]
  },
  {
   "cell_type": "code",
   "execution_count": null,
   "id": "ef8cb3a6",
   "metadata": {},
   "outputs": [],
   "source": [
    "#卷积层\n",
    "import torch\n",
    "from torch import nn\n",
    "data=torch.ones(size=(10,3,28,28))#图像数据\n",
    "conv1=nn.Conv2d(in_channels=3,out_channels=6,kernel_size=3)\n",
    "conv2=nn.Conv2d(in_channels=6,out_channels=4,kernel_size=3)\n",
    "#查看通过卷积后的数据结构"
   ]
  },
  {
   "cell_type": "code",
   "execution_count": null,
   "id": "e73f8429",
   "metadata": {},
   "outputs": [
    {
     "data": {
      "text/plain": [
       "torch.Size([10, 6, 26, 26])"
      ]
     },
     "execution_count": 84,
     "metadata": {},
     "output_type": "execute_result"
    }
   ],
   "source": [
    "conv1(data).shape"
   ]
  },
  {
   "cell_type": "code",
   "execution_count": null,
   "id": "65f73b06",
   "metadata": {},
   "outputs": [
    {
     "data": {
      "text/plain": [
       "torch.Size([10, 4, 24, 24])"
      ]
     },
     "execution_count": 85,
     "metadata": {},
     "output_type": "execute_result"
    }
   ],
   "source": [
    "conv2(conv1(data)).shape"
   ]
  },
  {
   "cell_type": "markdown",
   "id": "ad1dffc8",
   "metadata": {},
   "source": [
    "输出高度 = (输入高度 + 2×padding - kernel_size) / stride + 1\n",
    "输出宽度 = (输入宽度 + 2×padding - kernel_size) / stride + 1"
   ]
  },
  {
   "cell_type": "code",
   "execution_count": null,
   "id": "49d0e0a2",
   "metadata": {},
   "outputs": [],
   "source": [
    "#卷积层的特征图尺寸\n",
    "\n",
    "import torch\n",
    "from torch import nn\n",
    "data=torch.ones(size=(10,3,28,28))\n",
    "conv1=nn.Conv2d(in_channels=3,out_channels=6,kernel_size=3)\n",
    "conv2=nn.Conv2d(in_channels=6,out_channels=4,kernel_size=5)\n",
    "conv3=nn.Conv2d(in_channels=4,out_channels=5,kernel_size=3,stride=2)\n",
    "conv4=nn.Conv2d(in_channels=5,out_channels=4,kernel_size=3,stride=(1,2),padding=2)\n"
   ]
  },
  {
   "cell_type": "code",
   "execution_count": null,
   "id": "ede92aae",
   "metadata": {},
   "outputs": [
    {
     "data": {
      "text/plain": [
       "torch.Size([10, 6, 26, 26])"
      ]
     },
     "execution_count": 87,
     "metadata": {},
     "output_type": "execute_result"
    }
   ],
   "source": [
    "#(10,6,26,26) 28-3+1=26\n",
    "\n",
    "conv1(data).shape"
   ]
  },
  {
   "cell_type": "code",
   "execution_count": null,
   "id": "51bc41a9",
   "metadata": {},
   "outputs": [
    {
     "data": {
      "text/plain": [
       "torch.Size([10, 4, 22, 22])"
      ]
     },
     "execution_count": 88,
     "metadata": {},
     "output_type": "execute_result"
    }
   ],
   "source": [
    "#(10,4,22,22)26-5+1=22\n",
    "\n",
    "conv2(conv1(data)).shape\n"
   ]
  },
  {
   "cell_type": "code",
   "execution_count": null,
   "id": "a5995252",
   "metadata": {},
   "outputs": [
    {
     "data": {
      "text/plain": [
       "torch.Size([10, 5, 10, 10])"
      ]
     },
     "execution_count": 89,
     "metadata": {},
     "output_type": "execute_result"
    }
   ],
   "source": [
    "#(10,5,10,10)（22-3）/2+1=9.+1=10\n",
    "conv3(conv2(conv1(data))).shape"
   ]
  },
  {
   "cell_type": "code",
   "execution_count": null,
   "id": "7bdb6019",
   "metadata": {},
   "outputs": [
    {
     "data": {
      "text/plain": [
       "torch.Size([10, 4, 12, 6])"
      ]
     },
     "execution_count": 90,
     "metadata": {},
     "output_type": "execute_result"
    }
   ],
   "source": [
    "#(10,4,12，6)\n",
    "#H=（10+2*2-3）/1+1=12\n",
    "#w=（10+2*2-3）/2+1=6.\n",
    "conv4(conv3(conv2(conv1(data)))).shape\n"
   ]
  },
  {
   "cell_type": "markdown",
   "id": "af92ee5f",
   "metadata": {},
   "source": [
    "二.池化层"
   ]
  },
  {
   "cell_type": "markdown",
   "id": "eeba22b0",
   "metadata": {},
   "source": [
    "CLASS torch.nn.MaxPool2d(kernel_size, stride=None, padding=0, dilation=1, return_indices=False,\n",
    "ceil_mode=False)"
   ]
  },
  {
   "cell_type": "code",
   "execution_count": null,
   "id": "29176ac2",
   "metadata": {},
   "outputs": [],
   "source": [
    "# maxpool2d特征图尺寸验证 pool1(conv3(conv1(data))).shape\n",
    "data=torch.ones(size=(10,3,28,28))\n",
    "conv1=nn.Conv2d(in_channels=3,out_channels=6,kernel_size=3)\n",
    "conv3=nn.Conv2d(in_channels=6,out_channels=16,kernel_size=5,stride=2,padding=1)\n",
    "pool1=nn.MaxPool2d(kernel_size=2)"
   ]
  },
  {
   "cell_type": "code",
   "execution_count": null,
   "id": "901712f2",
   "metadata": {},
   "outputs": [
    {
     "data": {
      "text/plain": [
       "torch.Size([10, 6, 26, 26])"
      ]
     },
     "execution_count": 92,
     "metadata": {},
     "output_type": "execute_result"
    }
   ],
   "source": [
    "conv1(data).shape"
   ]
  },
  {
   "cell_type": "code",
   "execution_count": null,
   "id": "6e31624f",
   "metadata": {},
   "outputs": [
    {
     "data": {
      "text/plain": [
       "torch.Size([10, 16, 12, 12])"
      ]
     },
     "execution_count": 93,
     "metadata": {},
     "output_type": "execute_result"
    }
   ],
   "source": [
    "conv3(conv1(data)).shape\n",
    "# （10，16，12，12） （26+2-5）/2+1=12."
   ]
  },
  {
   "cell_type": "code",
   "execution_count": null,
   "id": "ca483e5d",
   "metadata": {},
   "outputs": [
    {
     "data": {
      "text/plain": [
       "torch.Size([10, 16, 6, 6])"
      ]
     },
     "execution_count": 94,
     "metadata": {},
     "output_type": "execute_result"
    }
   ],
   "source": [
    "\n",
    "pool1(conv3(conv1(data))).shape #唯一需要输入的参数，kernel_size=2，则默认使用(2,2)结构的核\n",
    "# (12 + 0 - 2)/2 + 1 =6\n",
    "# （10，16，6，6）"
   ]
  },
  {
   "cell_type": "markdown",
   "id": "2061c648",
   "metadata": {},
   "source": [
    "CLASS torch.nn.AdaptiveMaxPool2d (output_size, return_indices=False)\n"
   ]
  },
  {
   "cell_type": "markdown",
   "id": "1440dc36",
   "metadata": {},
   "source": [
    "CLASS torch.nn.AdaptiveAvgPool2d (output_size)"
   ]
  },
  {
   "cell_type": "code",
   "execution_count": null,
   "id": "d7409cf3",
   "metadata": {},
   "outputs": [],
   "source": [
    "#验证特征图尺寸 pool1(conv3(conv1(data))).shape\n",
    "data=torch.ones(size=(10,3,28,28))\n",
    "conv1=nn.Conv2d(in_channels=3,out_channels=6,kernel_size=3)\n",
    "conv3=nn.Conv2d(in_channels=6,out_channels=16,kernel_size=5,stride=2,padding=1)\n",
    "pool1=nn.AdaptiveMaxPool2d(output_size=2)\n"
   ]
  },
  {
   "cell_type": "code",
   "execution_count": null,
   "id": "bfd04578",
   "metadata": {},
   "outputs": [
    {
     "data": {
      "text/plain": [
       "torch.Size([10, 16, 2, 2])"
      ]
     },
     "execution_count": 96,
     "metadata": {},
     "output_type": "execute_result"
    }
   ],
   "source": [
    "# （10，16，2，2） \n",
    "pool1(conv3(conv1(data))).shape"
   ]
  },
  {
   "cell_type": "markdown",
   "id": "fb86ede5",
   "metadata": {},
   "source": [
    "CLASS torch.nn.BatchNorm2d (num_features, eps=1e-05, momentum=0.1, affine=True,\n",
    "track_running_stats=True)"
   ]
  },
  {
   "cell_type": "code",
   "execution_count": null,
   "id": "1602523c",
   "metadata": {},
   "outputs": [
    {
     "data": {
      "text/plain": [
       "torch.Size([10, 32, 28, 28])"
      ]
     },
     "execution_count": 97,
     "metadata": {},
     "output_type": "execute_result"
    }
   ],
   "source": [
    "data = torch.ones(size=(10,3,28,28))\n",
    "conv1 = nn.Conv2d(3,32,5,padding=2)\n",
    "bn1 = nn.BatchNorm2d(32)\n",
    "bn1(conv1(data)).shape #不会改变feature map的形状\n",
    "#输入其他数字则报错\n",
    "#bn1 = nn.BatchNorm2d(10)"
   ]
  },
  {
   "cell_type": "markdown",
   "id": "b9890be4",
   "metadata": {},
   "source": [
    "CLASS torch.nn.Dropout2d (p=0.5, inplace=False)"
   ]
  },
  {
   "cell_type": "code",
   "execution_count": null,
   "id": "1151db7a",
   "metadata": {},
   "outputs": [
    {
     "data": {
      "text/plain": [
       "torch.Size([10, 32, 28, 28])"
      ]
     },
     "execution_count": 98,
     "metadata": {},
     "output_type": "execute_result"
    }
   ],
   "source": [
    "data = torch.ones(size=(10,1,28,28))\n",
    "conv1 = nn.Conv2d(1,32,5,padding=2)\n",
    "dp1 = nn.Dropout2d(0.5)\n",
    "dp1(conv1(data)).shape #不会改变feature map的形状"
   ]
  },
  {
   "cell_type": "code",
   "execution_count": null,
   "id": "c4a755e2",
   "metadata": {},
   "outputs": [
    {
     "data": {
      "text/plain": [
       "torch.Size([10, 32, 28, 28])"
      ]
     },
     "execution_count": 99,
     "metadata": {},
     "output_type": "execute_result"
    }
   ],
   "source": [
    "conv1(data).shape"
   ]
  }
 ],
 "metadata": {
  "kernelspec": {
   "display_name": "jrx",
   "language": "python",
   "name": "python3"
  },
  "language_info": {
   "codemirror_mode": {
    "name": "ipython",
    "version": 3
   },
   "file_extension": ".py",
   "mimetype": "text/x-python",
   "name": "python",
   "nbconvert_exporter": "python",
   "pygments_lexer": "ipython3",
   "version": "3.9.21"
  }
 },
 "nbformat": 4,
 "nbformat_minor": 5
}
