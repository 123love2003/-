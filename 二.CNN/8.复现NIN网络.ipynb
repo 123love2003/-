{
 "cells": [
  {
   "cell_type": "markdown",
   "id": "5a523de8",
   "metadata": {},
   "source": [
    "一.复现NIN网络"
   ]
  },
  {
   "cell_type": "markdown",
   "id": "b8a78913",
   "metadata": {},
   "source": [
    "![](https://skojiangdoc.oss-cn-beijing.aliyuncs.com/2021PyTorchDL/WEEK9/58.png?versionId=CAEQFRiBgIC0zIWfxxciIGE0ZjkyMzI1ZTE3MzQ3MmQ5NDhiZWFlN2UyMmFiYTQ0)"
   ]
  },
  {
   "cell_type": "code",
   "execution_count": 14,
   "id": "973accac",
   "metadata": {},
   "outputs": [],
   "source": [
    "import torch\n",
    "from torch import nn\n",
    "from torch.nn import functional as F\n",
    "from torchinfo import summary\n",
    "from torch_receptive_field import receptive_field"
   ]
  },
  {
   "cell_type": "code",
   "execution_count": 15,
   "id": "c828b1f3",
   "metadata": {},
   "outputs": [],
   "source": [
    "data=torch.ones(size=(10,3,32,32))\n",
    "class NiN(nn.Module):\n",
    "    def __init__(self):\n",
    "        super().__init__()\n",
    "        self.block1 = nn.Sequential(nn.Conv2d(3,192,5,padding=2),nn.ReLU(inplace=True)\n",
    "                                    ,nn.Conv2d(192,160,1),nn.ReLU(inplace=True)\n",
    "                                    ,nn.Conv2d(160,96,1),nn.ReLU(inplace=True)\n",
    "                                    ,nn.MaxPool2d(kernel_size=3,stride=2)\n",
    "                                    ,nn.Dropout(0.25))\n",
    "        self.block2 = nn.Sequential(nn.Conv2d(96,192,5,padding=2),nn.ReLU(inplace=True)\n",
    "                                    ,nn.Conv2d(192,192,1),nn.ReLU(inplace=True)\n",
    "                                    ,nn.Conv2d(192,192,1),nn.ReLU(inplace=True)\n",
    "                                    ,nn.MaxPool2d(kernel_size=3,stride=2)\n",
    "                                    ,nn.Dropout(0.25))\n",
    "        self.block3 = nn.Sequential(nn.Conv2d(192,192,3,padding=1),nn.ReLU(inplace=True)\n",
    "                                    ,nn.Conv2d(192,192,1),nn.ReLU(inplace=True)\n",
    "                                    ,nn.Conv2d(192,10,1),nn.ReLU(inplace=True)\n",
    "                                    ,nn.AvgPool2d(7,stride=1)\n",
    "                                    ,nn.Softmax(dim=1))\n",
    "    def forward(self,x):\n",
    "        output = self.block3(self.block2(self.block1(x)))\n",
    "        return output"
   ]
  },
  {
   "cell_type": "code",
   "execution_count": 16,
   "id": "aa97ab11",
   "metadata": {},
   "outputs": [
    {
     "data": {
      "text/plain": [
       "torch.Size([10, 10, 1, 1])"
      ]
     },
     "execution_count": 16,
     "metadata": {},
     "output_type": "execute_result"
    }
   ],
   "source": [
    "net=NiN()\n",
    "net(data).shape\n"
   ]
  },
  {
   "cell_type": "code",
   "execution_count": 17,
   "id": "88a03c21",
   "metadata": {},
   "outputs": [
    {
     "data": {
      "text/plain": [
       "==========================================================================================\n",
       "Layer (type:depth-idx)                   Output Shape              Param #\n",
       "==========================================================================================\n",
       "NiN                                      [10, 10, 1, 1]            --\n",
       "├─Sequential: 1-1                        [10, 96, 15, 15]          --\n",
       "│    └─Conv2d: 2-1                       [10, 192, 32, 32]         14,592\n",
       "│    └─ReLU: 2-2                         [10, 192, 32, 32]         --\n",
       "│    └─Conv2d: 2-3                       [10, 160, 32, 32]         30,880\n",
       "│    └─ReLU: 2-4                         [10, 160, 32, 32]         --\n",
       "│    └─Conv2d: 2-5                       [10, 96, 32, 32]          15,456\n",
       "│    └─ReLU: 2-6                         [10, 96, 32, 32]          --\n",
       "│    └─MaxPool2d: 2-7                    [10, 96, 15, 15]          --\n",
       "│    └─Dropout: 2-8                      [10, 96, 15, 15]          --\n",
       "├─Sequential: 1-2                        [10, 192, 7, 7]           --\n",
       "│    └─Conv2d: 2-9                       [10, 192, 15, 15]         460,992\n",
       "│    └─ReLU: 2-10                        [10, 192, 15, 15]         --\n",
       "│    └─Conv2d: 2-11                      [10, 192, 15, 15]         37,056\n",
       "│    └─ReLU: 2-12                        [10, 192, 15, 15]         --\n",
       "│    └─Conv2d: 2-13                      [10, 192, 15, 15]         37,056\n",
       "│    └─ReLU: 2-14                        [10, 192, 15, 15]         --\n",
       "│    └─MaxPool2d: 2-15                   [10, 192, 7, 7]           --\n",
       "│    └─Dropout: 2-16                     [10, 192, 7, 7]           --\n",
       "├─Sequential: 1-3                        [10, 10, 1, 1]            --\n",
       "│    └─Conv2d: 2-17                      [10, 192, 7, 7]           331,968\n",
       "│    └─ReLU: 2-18                        [10, 192, 7, 7]           --\n",
       "│    └─Conv2d: 2-19                      [10, 192, 7, 7]           37,056\n",
       "│    └─ReLU: 2-20                        [10, 192, 7, 7]           --\n",
       "│    └─Conv2d: 2-21                      [10, 10, 7, 7]            1,930\n",
       "│    └─ReLU: 2-22                        [10, 10, 7, 7]            --\n",
       "│    └─AvgPool2d: 2-23                   [10, 10, 1, 1]            --\n",
       "│    └─Softmax: 2-24                     [10, 10, 1, 1]            --\n",
       "==========================================================================================\n",
       "Total params: 966,986\n",
       "Trainable params: 966,986\n",
       "Non-trainable params: 0\n",
       "Total mult-adds (G): 2.01\n",
       "==========================================================================================\n",
       "Input size (MB): 0.12\n",
       "Forward/backward pass size (MB): 48.61\n",
       "Params size (MB): 3.87\n",
       "Estimated Total Size (MB): 52.60\n",
       "=========================================================================================="
      ]
     },
     "execution_count": 17,
     "metadata": {},
     "output_type": "execute_result"
    }
   ],
   "source": [
    "summary(net,input_size=(10,3,32,32),device=\"cpu\")"
   ]
  }
 ],
 "metadata": {
  "kernelspec": {
   "display_name": "jrx",
   "language": "python",
   "name": "python3"
  },
  "language_info": {
   "codemirror_mode": {
    "name": "ipython",
    "version": 3
   },
   "file_extension": ".py",
   "mimetype": "text/x-python",
   "name": "python",
   "nbconvert_exporter": "python",
   "pygments_lexer": "ipython3",
   "version": "3.9.21"
  }
 },
 "nbformat": 4,
 "nbformat_minor": 5
}
